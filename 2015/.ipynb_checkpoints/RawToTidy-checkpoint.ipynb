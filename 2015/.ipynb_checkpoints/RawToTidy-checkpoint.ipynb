{
 "metadata": {
  "name": "",
  "signature": "sha256:45bf9cb365989c41b9f14c55526587f5583b096d0153ea651170c1222c1e5d7f"
 },
 "nbformat": 3,
 "nbformat_minor": 0,
 "worksheets": [
  {
   "cells": [
    {
     "cell_type": "markdown",
     "metadata": {},
     "source": [
      "import pandas as pd\n",
      "import ZipFile"
     ]
    },
    {
     "cell_type": "code",
     "collapsed": false,
     "input": [
      "# CONST / ARGS\n",
      "RAW_DATA_PATH = \"./raw\"\n"
     ],
     "language": "python",
     "metadata": {},
     "outputs": []
    },
    {
     "cell_type": "code",
     "collapsed": false,
     "input": [],
     "language": "python",
     "metadata": {},
     "outputs": []
    }
   ],
   "metadata": {}
  }
 ]
}